{
 "cells": [
  {
   "cell_type": "code",
   "execution_count": 2,
   "metadata": {},
   "outputs": [],
   "source": [
    "import pandas as pd\n",
    "import matplotlib.pyplot as plt\n",
    "import numpy as np\n",
    "\n",
    "# Style of Plots\n",
    "plt.style.use('fivethirtyeight')\n",
    "\n",
    "# Read files\n",
    "df = pd.read_csv(\"Plane Crash dataset.csv\")"
   ]
  },
  {
   "cell_type": "code",
   "execution_count": 4,
   "metadata": {},
   "outputs": [
    {
     "name": "stdout",
     "output_type": "stream",
     "text": [
      "all fatalities 158735\n",
      "groupby as Series\n",
      "Crash cause\n",
      "Human factor                          72955\n",
      "Other causes                           4002\n",
      "Technical failure                     29599\n",
      "Terrorism act, Hijacking, Sabotage    12712\n",
      "Unknown                               28614\n",
      "Weather                               10853\n",
      "Name: Total fatalities, dtype: int64 <class 'pandas.core.series.Series'>\n"
     ]
    },
    {
     "data": {
      "text/html": [
       "<div>\n",
       "<style scoped>\n",
       "    .dataframe tbody tr th:only-of-type {\n",
       "        vertical-align: middle;\n",
       "    }\n",
       "\n",
       "    .dataframe tbody tr th {\n",
       "        vertical-align: top;\n",
       "    }\n",
       "\n",
       "    .dataframe thead th {\n",
       "        text-align: right;\n",
       "    }\n",
       "</style>\n",
       "<table border=\"1\" class=\"dataframe\">\n",
       "  <thead>\n",
       "    <tr style=\"text-align: right;\">\n",
       "      <th></th>\n",
       "      <th>Crash cause</th>\n",
       "      <th>Total fatalities</th>\n",
       "    </tr>\n",
       "  </thead>\n",
       "  <tbody>\n",
       "    <tr>\n",
       "      <th>0</th>\n",
       "      <td>Human factor</td>\n",
       "      <td>72955</td>\n",
       "    </tr>\n",
       "    <tr>\n",
       "      <th>1</th>\n",
       "      <td>Other causes</td>\n",
       "      <td>4002</td>\n",
       "    </tr>\n",
       "    <tr>\n",
       "      <th>2</th>\n",
       "      <td>Technical failure</td>\n",
       "      <td>29599</td>\n",
       "    </tr>\n",
       "    <tr>\n",
       "      <th>3</th>\n",
       "      <td>Terrorism act, Hijacking, Sabotage</td>\n",
       "      <td>12712</td>\n",
       "    </tr>\n",
       "    <tr>\n",
       "      <th>4</th>\n",
       "      <td>Unknown</td>\n",
       "      <td>28614</td>\n",
       "    </tr>\n",
       "    <tr>\n",
       "      <th>5</th>\n",
       "      <td>Weather</td>\n",
       "      <td>10853</td>\n",
       "    </tr>\n",
       "  </tbody>\n",
       "</table>\n",
       "</div>"
      ],
      "text/plain": [
       "                          Crash cause  Total fatalities\n",
       "0                        Human factor             72955\n",
       "1                        Other causes              4002\n",
       "2                   Technical failure             29599\n",
       "3  Terrorism act, Hijacking, Sabotage             12712\n",
       "4                             Unknown             28614\n",
       "5                             Weather             10853"
      ]
     },
     "execution_count": 4,
     "metadata": {},
     "output_type": "execute_result"
    }
   ],
   "source": [
    "\n",
    "print(\"all fatalities\", df[\"Total fatalities\"].sum())\n",
    "\n",
    "category = 'Crash cause'\n",
    "numeric = 'Total fatalities'\n",
    "\n",
    "# group fatalities by cause:  https://datagy.io/pandas-groupby/\n",
    "gb = df.groupby(category)[numeric].sum()\n",
    "print(\"groupby as Series:\") \n",
    "print(gb, type(gb))\n",
    "\n",
    "# The issue (for me anyway) is that gb is not a dataframe, the left most \"column\"\n",
    "# is its index (which can be non-numeric) and the right (unnamed) column has\n",
    "# the actual values. Thing is you can't plot with that (x=index y=unnamed) so\n",
    "# I'll create a new, separate df for plotting:\n",
    "\n",
    "d = {category: gb.index,\n",
    "      numeric: gb.values}\n",
    "dfgb = pd.DataFrame(d)\n",
    "dfgb"
   ]
  },
  {
   "cell_type": "code",
   "execution_count": 5,
   "metadata": {},
   "outputs": [
    {
     "data": {
      "text/html": [
       "<div>\n",
       "<style scoped>\n",
       "    .dataframe tbody tr th:only-of-type {\n",
       "        vertical-align: middle;\n",
       "    }\n",
       "\n",
       "    .dataframe tbody tr th {\n",
       "        vertical-align: top;\n",
       "    }\n",
       "\n",
       "    .dataframe thead th {\n",
       "        text-align: right;\n",
       "    }\n",
       "</style>\n",
       "<table border=\"1\" class=\"dataframe\">\n",
       "  <thead>\n",
       "    <tr style=\"text-align: right;\">\n",
       "      <th></th>\n",
       "      <th>Crash cause</th>\n",
       "      <th>Total fatalities</th>\n",
       "    </tr>\n",
       "  </thead>\n",
       "  <tbody>\n",
       "    <tr>\n",
       "      <th>0</th>\n",
       "      <td>Human factor</td>\n",
       "      <td>72955</td>\n",
       "    </tr>\n",
       "    <tr>\n",
       "      <th>2</th>\n",
       "      <td>Technical failure</td>\n",
       "      <td>29599</td>\n",
       "    </tr>\n",
       "    <tr>\n",
       "      <th>4</th>\n",
       "      <td>Unknown</td>\n",
       "      <td>28614</td>\n",
       "    </tr>\n",
       "    <tr>\n",
       "      <th>3</th>\n",
       "      <td>Terrorism act, Hijacking, Sabotage</td>\n",
       "      <td>12712</td>\n",
       "    </tr>\n",
       "    <tr>\n",
       "      <th>5</th>\n",
       "      <td>Weather</td>\n",
       "      <td>10853</td>\n",
       "    </tr>\n",
       "    <tr>\n",
       "      <th>1</th>\n",
       "      <td>Other causes</td>\n",
       "      <td>4002</td>\n",
       "    </tr>\n",
       "  </tbody>\n",
       "</table>\n",
       "</div>"
      ],
      "text/plain": [
       "                          Crash cause  Total fatalities\n",
       "0                        Human factor             72955\n",
       "2                   Technical failure             29599\n",
       "4                             Unknown             28614\n",
       "3  Terrorism act, Hijacking, Sabotage             12712\n",
       "5                             Weather             10853\n",
       "1                        Other causes              4002"
      ]
     },
     "execution_count": 5,
     "metadata": {},
     "output_type": "execute_result"
    }
   ],
   "source": [
    "# sorting\n",
    "dfgb.sort_values(by=[numeric], ascending=False, inplace=True)\n",
    "dfgb"
   ]
  },
  {
   "cell_type": "code",
   "execution_count": 6,
   "metadata": {},
   "outputs": [],
   "source": [
    "import textwrap\n",
    "# https://medium.com/dunder-data/automatically-wrap-graph-labels-in-matplotlib-and-seaborn-a48740bc9ce\n",
    "def wrap_labels(ax, width, break_long_words=False):\n",
    "    labels = []\n",
    "    for label in ax.get_xticklabels():\n",
    "        text = label.get_text()\n",
    "        labels.append(textwrap.fill(text, width=width,\n",
    "                      break_long_words=break_long_words))\n",
    "    ax.set_xticklabels(labels, rotation=0)"
   ]
  },
  {
   "cell_type": "code",
   "execution_count": 7,
   "metadata": {},
   "outputs": [
    {
     "data": {
      "text/plain": [
       "Text(0.5, 1.0, 'Deaths by Cause')"
      ]
     },
     "execution_count": 7,
     "metadata": {},
     "output_type": "execute_result"
    },
    {
     "data": {
      "image/png": "[encoded data removed]",
      "text/plain": [
       "<Figure size 864x432 with 1 Axes>"
      ]
     },
     "metadata": {},
     "output_type": "display_data"
    }
   ],
   "source": [
    "import seaborn as sns\n",
    "\n",
    "plt.style.use('fivethirtyeight') # works but you should also check out the seaborn themes\n",
    "fig, ax = plt.subplots(figsize=(12, 6)) \n",
    "ax = sns.barplot(x=category, y=numeric, # which columns for x and y\n",
    "                    data=dfgb, # in which dataframe\n",
    "                    ci=0, # no error bars (much faster!)\n",
    "                    ) \n",
    "\n",
    "# wrap x labels\n",
    "wrap_labels(ax, 10)\n",
    "ax.set_title('Deaths by Cause')"
   ]
  }
 ],
 "metadata": {
  "interpreter": {
   "hash": "1813b1874f6f84418af257d52e08e51b77c1fa4a78b2eeb48d9f803ad6bb1049"
  },
  "kernelspec": {
   "display_name": "Python 3.9.7 ('base')",
   "language": "python",
   "name": "python3"
  },
  "language_info": {
   "codemirror_mode": {
    "name": "ipython",
    "version": 3
   },
   "file_extension": ".py",
   "mimetype": "text/x-python",
   "name": "python",
   "nbconvert_exporter": "python",
   "pygments_lexer": "ipython3",
   "version": "3.9.7"
  },
  "orig_nbformat": 4
 },
 "nbformat": 4,
 "nbformat_minor": 2
}
